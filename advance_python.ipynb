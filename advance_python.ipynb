{
 "metadata": {
  "language_info": {
   "codemirror_mode": {
    "name": "ipython",
    "version": 3
   },
   "file_extension": ".py",
   "mimetype": "text/x-python",
   "name": "python",
   "nbconvert_exporter": "python",
   "pygments_lexer": "ipython3",
   "version": 3
  },
  "orig_nbformat": 2,
  "kernelspec": {
   "name": "python_defaultSpec_1596373828845",
   "display_name": "Python 3.8.3 64-bit ('env': venv)"
  }
 },
 "nbformat": 4,
 "nbformat_minor": 2,
 "cells": [
  {
   "cell_type": "markdown",
   "metadata": {},
   "source": [
    "Generators\n",
    "\n",
    "When an iteration over a set of item starts using the for statement, the generator is run. Once the generator's function code reaches a \"yield\" statement, the generator yields its execution back to the for loop, returning a new value from the set. The generator function can generate as many values (possibly infinite) as it wants, yielding each one in its turn."
   ]
  },
  {
   "cell_type": "code",
   "execution_count": 3,
   "metadata": {
    "tags": []
   },
   "outputs": [
    {
     "output_type": "stream",
     "name": "stdout",
     "text": "3\n2\n4\n9\n10\n11\n"
    }
   ],
   "source": [
    "import random\n",
    "\n",
    "def lottery():\n",
    "\n",
    "    for x in range(5):\n",
    "        yield random.randint(1,10)\n",
    "    yield random.randint(10,20)\n",
    "\n",
    "for val in lottery():\n",
    "    print(f\"{val}\")"
   ]
  },
  {
   "cell_type": "code",
   "execution_count": 8,
   "metadata": {
    "tags": []
   },
   "outputs": [
    {
     "output_type": "stream",
     "name": "stdout",
     "text": "1\n1\n2\n3\n5\n8\n13\n21\n34\n55\n"
    }
   ],
   "source": [
    "def fib():\n",
    "    i,j=1,1\n",
    "    while 1:\n",
    "        yield i\n",
    "        i,j=j,i+j\n",
    "counter=0\n",
    "for x in fib():\n",
    "    counter+=1\n",
    "    print(x)\n",
    "    if counter==10:\n",
    "        break\n"
   ]
  },
  {
   "cell_type": "markdown",
   "metadata": {},
   "source": [
    "List Comprehension\n",
    "\n",
    "List Comprehensions is a very powerful tool, which creates a new list based on another list, in a single, readable line.\n",
    "For example, let's say we need to create a list of integers which specify the length of each word in a certain sentence, but only if the word is not the word \"the\".\n"
   ]
  },
  {
   "cell_type": "code",
   "execution_count": 17,
   "metadata": {
    "tags": []
   },
   "outputs": [
    {
     "output_type": "stream",
     "name": "stdout",
     "text": "[4, 5, 2, 8, 2, 4, 2, 4]\n----------\n[4, 5, 2, 8, 2, 4, 2, 4]\n"
    }
   ],
   "source": [
    "sentence=\"the taja mahal is situated in the city of agra\"\n",
    "words = sentence.split()\n",
    "word_lengths=[]\n",
    "for word in words:\n",
    "    if word!=\"the\":\n",
    "        word_lengths.append(len(word))\n",
    "print(word_lengths)\n",
    "print('----------')\n",
    "#one liner\n",
    "word_lengths_in_one_line=[len(word) for word in words if word!=\"the\"]\n",
    "print(word_lengths_in_one_line)"
   ]
  },
  {
   "cell_type": "markdown",
   "metadata": {},
   "source": [
    "Multiple function arguments"
   ]
  },
  {
   "cell_type": "code",
   "execution_count": 28,
   "metadata": {
    "tags": []
   },
   "outputs": [
    {
     "output_type": "stream",
     "name": "stdout",
     "text": "1\n2\n3\n(4, 5, 6, 7)\n4 7\n---------\n{'name': 'Anant', 'age': 25}\ncorrect\n"
    }
   ],
   "source": [
    "def foo(first, second, third,*extras):\n",
    "    print(first)\n",
    "    print(second)\n",
    "    print(third)\n",
    "    print(extras)\n",
    "    print(extras[0],extras[3])\n",
    "\n",
    "foo(1,2,3,4,5,6,7)\n",
    "\n",
    "print(\"---------\")\n",
    "\n",
    "def bar(first, second, third, **options):\n",
    "    print(options)\n",
    "    if options.get(\"name\")==\"Anant\" and options.get('age')==25:\n",
    "        print(\"correct\")\n",
    "\n",
    "bar(3,2,4,name=\"Anant\",age=25)\n"
   ]
  },
  {
   "cell_type": "markdown",
   "metadata": {},
   "source": [
    "Regular Expression"
   ]
  },
  {
   "cell_type": "code",
   "execution_count": null,
   "metadata": {},
   "outputs": [],
   "source": []
  }
 ]
}