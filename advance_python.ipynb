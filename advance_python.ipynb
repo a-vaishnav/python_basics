{
 "metadata": {
  "language_info": {
   "codemirror_mode": {
    "name": "ipython",
    "version": 3
   },
   "file_extension": ".py",
   "mimetype": "text/x-python",
   "name": "python",
   "nbconvert_exporter": "python",
   "pygments_lexer": "ipython3",
   "version": 3
  },
  "orig_nbformat": 2,
  "kernelspec": {
   "name": "python_defaultSpec_1596458354077",
   "display_name": "Python 3.8.3 64-bit ('env': venv)"
  }
 },
 "nbformat": 4,
 "nbformat_minor": 2,
 "cells": [
  {
   "cell_type": "markdown",
   "metadata": {},
   "source": [
    "Generators\n",
    "\n",
    "When an iteration over a set of item starts using the for statement, the generator is run. Once the generator's function code reaches a \"yield\" statement, the generator yields its execution back to the for loop, returning a new value from the set. The generator function can generate as many values (possibly infinite) as it wants, yielding each one in its turn."
   ]
  },
  {
   "cell_type": "code",
   "execution_count": 3,
   "metadata": {
    "tags": []
   },
   "outputs": [
    {
     "output_type": "stream",
     "name": "stdout",
     "text": "3\n2\n4\n9\n10\n11\n"
    }
   ],
   "source": [
    "import random\n",
    "\n",
    "def lottery():\n",
    "\n",
    "    for x in range(5):\n",
    "        yield random.randint(1,10)\n",
    "    yield random.randint(10,20)\n",
    "\n",
    "for val in lottery():\n",
    "    print(f\"{val}\")"
   ]
  },
  {
   "cell_type": "code",
   "execution_count": 8,
   "metadata": {
    "tags": []
   },
   "outputs": [
    {
     "output_type": "stream",
     "name": "stdout",
     "text": "1\n1\n2\n3\n5\n8\n13\n21\n34\n55\n"
    }
   ],
   "source": [
    "def fib():\n",
    "    i,j=1,1\n",
    "    while 1:\n",
    "        yield i\n",
    "        i,j=j,i+j\n",
    "counter=0\n",
    "for x in fib():\n",
    "    counter+=1\n",
    "    print(x)\n",
    "    if counter==10:\n",
    "        break\n"
   ]
  },
  {
   "cell_type": "markdown",
   "metadata": {},
   "source": [
    "List Comprehension\n",
    "\n",
    "List Comprehensions is a very powerful tool, which creates a new list based on another list, in a single, readable line.\n",
    "For example, let's say we need to create a list of integers which specify the length of each word in a certain sentence, but only if the word is not the word \"the\".\n"
   ]
  },
  {
   "cell_type": "code",
   "execution_count": 17,
   "metadata": {
    "tags": []
   },
   "outputs": [
    {
     "output_type": "stream",
     "name": "stdout",
     "text": "[4, 5, 2, 8, 2, 4, 2, 4]\n----------\n[4, 5, 2, 8, 2, 4, 2, 4]\n"
    }
   ],
   "source": [
    "sentence=\"the taja mahal is situated in the city of agra\"\n",
    "words = sentence.split()\n",
    "word_lengths=[]\n",
    "for word in words:\n",
    "    if word!=\"the\":\n",
    "        word_lengths.append(len(word))\n",
    "print(word_lengths)\n",
    "print('----------')\n",
    "#one liner\n",
    "word_lengths_in_one_line=[len(word) for word in words if word!=\"the\"]\n",
    "print(word_lengths_in_one_line)"
   ]
  },
  {
   "cell_type": "markdown",
   "metadata": {},
   "source": [
    "Multiple function arguments"
   ]
  },
  {
   "cell_type": "code",
   "execution_count": 28,
   "metadata": {
    "tags": []
   },
   "outputs": [
    {
     "output_type": "stream",
     "name": "stdout",
     "text": "1\n2\n3\n(4, 5, 6, 7)\n4 7\n---------\n{'name': 'Anant', 'age': 25}\ncorrect\n"
    }
   ],
   "source": [
    "def foo(first, second, third,*extras):\n",
    "    print(first)\n",
    "    print(second)\n",
    "    print(third)\n",
    "    print(extras)\n",
    "    print(extras[0],extras[3])\n",
    "\n",
    "foo(1,2,3,4,5,6,7)\n",
    "\n",
    "print(\"---------\")\n",
    "\n",
    "def bar(first, second, third, **options):\n",
    "    print(options)\n",
    "    if options.get(\"name\")==\"Anant\" and options.get('age')==25:\n",
    "        print(\"correct\")\n",
    "\n",
    "bar(3,2,4,name=\"Anant\",age=25)\n"
   ]
  },
  {
   "cell_type": "markdown",
   "metadata": {},
   "source": [
    "Regular Expression , Serialisation"
   ]
  },
  {
   "cell_type": "markdown",
   "metadata": {},
   "source": [
    "Will Do this later"
   ]
  },
  {
   "cell_type": "markdown",
   "metadata": {},
   "source": [
    "Exception Handling"
   ]
  },
  {
   "cell_type": "code",
   "execution_count": 6,
   "metadata": {
    "tags": []
   },
   "outputs": [
    {
     "output_type": "stream",
     "name": "stdout",
     "text": "1 5 4 3 3 5 List Ended\nList Ended\nList Ended\nList Ended\nList Ended\nList Ended\nList Ended\nList Ended\nList Ended\nList Ended\nList Ended\nList Ended\nList Ended\nList Ended\n"
    }
   ],
   "source": [
    "def catchthis():\n",
    "    alist=(1,5,4,3,3,5)\n",
    "\n",
    "    for i in range(20):\n",
    "        try:\n",
    "            print(alist[i],end=\" \")\n",
    "        except IndexError:\n",
    "            print(\"List Ended\")\n",
    "\n",
    "catchthis()\n",
    "       \n"
   ]
  },
  {
   "cell_type": "markdown",
   "metadata": {},
   "source": [
    "Sets"
   ]
  },
  {
   "cell_type": "code",
   "execution_count": 17,
   "metadata": {
    "tags": []
   },
   "outputs": [
    {
     "output_type": "stream",
     "name": "stdout",
     "text": "{'and', 'is', 'anant', 'my', 'name'}\n{'ram', 'adam'}\n{'virus', 'mustfiquir', 'eve', 'bull'}\n{'mustfiquir', 'eve'}\n{'virus', 'bull'}\n{'virus', 'adam', 'ram', 'eve', 'mustfiquir', 'bull'}\n"
    }
   ],
   "source": [
    "#Sets are lists with no duplicate entries\n",
    "print(set(\"my name is anant and anant is my name\".split()))\n",
    "\n",
    "#To find common list elements for both the sets\n",
    "event1=set([\"adam\",\"eve\",\"mustfiquir\",\"ram\"])\n",
    "event2=set([\"ram\",\"adam\",\"virus\",\"bull\"])\n",
    "\n",
    "print(event1.intersection(event2))\n",
    "\n",
    "#To find out which members attended only one of the events\n",
    "#basically elements that are not common in both lists\n",
    "\n",
    "print(event1.symmetric_difference(event2))\n",
    "\n",
    "#To find out which members attended only one event and not the other\n",
    "print(event1.difference(event2)) #attended first and not the second\n",
    "print(event2.difference(event1))#attended second and not the first\n",
    "\n",
    "#To receive a list of all participants\n",
    "print(event1.union(event2))"
   ]
  },
  {
   "cell_type": "markdown",
   "metadata": {},
   "source": [
    "Partial Function"
   ]
  },
  {
   "cell_type": "code",
   "execution_count": 30,
   "metadata": {
    "tags": []
   },
   "outputs": [
    {
     "output_type": "stream",
     "name": "stdout",
     "text": "12\n60\n"
    }
   ],
   "source": [
    "from functools import partial\n",
    "\n",
    "def func(x,y):\n",
    "    return x*y\n",
    "\n",
    "val_ue=partial(func,4)\n",
    "#4 will be assgined to x and when you call val_ue(p) and pass some value for p, that p will take the value of y\n",
    "print(val_ue(3))\n",
    "#-------------------------#\n",
    "\n",
    "#one more example\n",
    "\n",
    "def do_this(u,v,w,x):\n",
    "    return u*4 + v*3 + w*2 + x\n",
    "\n",
    "#10 ---> u\n",
    "#3 ---> v\n",
    "check=partial(do_this,10,3)\n",
    "#5 --->w\n",
    "#1 --->x\n",
    "print(check(5,1))\n"
   ]
  },
  {
   "cell_type": "markdown",
   "metadata": {},
   "source": [
    "Closures\n",
    "\n",
    "Remember, even functions are objects in python"
   ]
  },
  {
   "cell_type": "code",
   "execution_count": 37,
   "metadata": {
    "tags": []
   },
   "outputs": [
    {
     "output_type": "stream",
     "name": "stdout",
     "text": "3\n3\n----------------\n3\n9\n----------------\nTest message\nNone\n------------------\nhello from the other side\n"
    }
   ],
   "source": [
    "#example1\n",
    "def print_msg(number):\n",
    "    def printer():\n",
    "        \n",
    "        nonlocal number\n",
    "        #you made the number nonlocal meaning you modified the value of number\n",
    "        number=3\n",
    "        print(number)\n",
    "    printer()\n",
    "    print(number)\n",
    "print_msg(9)\n",
    "print('----------------')\n",
    "#example 2\n",
    "def print_msg(number):\n",
    "    def printer():\n",
    "        number=3\n",
    "        print(number)\n",
    "    printer()\n",
    "    #this outer function (print_msg) still has 9 in its memory for the value of number \n",
    "    print(number)\n",
    "print_msg(9)\n",
    "print('----------------')\n",
    "\n",
    "#example3\n",
    "def transmit_to_space(message):\n",
    "    #\"This is the enclosing function\"\n",
    "    def data_transmitter():\n",
    "        #\"The nested function\"\n",
    "        print(message)\n",
    "\n",
    "    \n",
    "    data_transmitter()\n",
    "\n",
    "print(transmit_to_space(\"Test message\"))\n",
    "print(\"------------------\")\n",
    "#since the function transmit_to_space didn't returned anything we are printing \"None\"\n",
    "\n",
    "#example4\n",
    "def transmit_to_space(message):\n",
    "    #\"This is the enclosing function\"\n",
    "    def data_transmitter():\n",
    "        #\"The nested function\"\n",
    "        print(message)\n",
    "\n",
    "    return data_transmitter\n",
    "\n",
    "fun=transmit_to_space(\"hello from the other side\")\n",
    "#the transmot_to_space fuction 's execution was complete but the message was preserved with fun\n",
    "fun()"
   ]
  }
 ]
}