{
 "metadata": {
  "language_info": {
   "codemirror_mode": {
    "name": "ipython",
    "version": 3
   },
   "file_extension": ".py",
   "mimetype": "text/x-python",
   "name": "python",
   "nbconvert_exporter": "python",
   "pygments_lexer": "ipython3",
   "version": 3
  },
  "orig_nbformat": 2,
  "kernelspec": {
   "name": "python_defaultSpec_1596547660679",
   "display_name": "Python 3.8.3 64-bit ('env': venv)"
  }
 },
 "nbformat": 4,
 "nbformat_minor": 2,
 "cells": [
  {
   "cell_type": "markdown",
   "metadata": {},
   "source": [
    "Generators\n",
    "\n",
    "When an iteration over a set of item starts using the for statement, the generator is run. Once the generator's function code reaches a \"yield\" statement, the generator yields its execution back to the for loop, returning a new value from the set. The generator function can generate as many values (possibly infinite) as it wants, yielding each one in its turn."
   ]
  },
  {
   "cell_type": "code",
   "execution_count": 3,
   "metadata": {
    "tags": []
   },
   "outputs": [
    {
     "output_type": "stream",
     "name": "stdout",
     "text": "3\n2\n4\n9\n10\n11\n"
    }
   ],
   "source": [
    "import random\n",
    "\n",
    "def lottery():\n",
    "\n",
    "    for x in range(5):\n",
    "        yield random.randint(1,10)\n",
    "    yield random.randint(10,20)\n",
    "\n",
    "for val in lottery():\n",
    "    print(f\"{val}\")"
   ]
  },
  {
   "cell_type": "code",
   "execution_count": 8,
   "metadata": {
    "tags": []
   },
   "outputs": [
    {
     "output_type": "stream",
     "name": "stdout",
     "text": "1\n1\n2\n3\n5\n8\n13\n21\n34\n55\n"
    }
   ],
   "source": [
    "def fib():\n",
    "    i,j=1,1\n",
    "    while 1:\n",
    "        yield i\n",
    "        i,j=j,i+j\n",
    "counter=0\n",
    "for x in fib():\n",
    "    counter+=1\n",
    "    print(x)\n",
    "    if counter==10:\n",
    "        break\n"
   ]
  },
  {
   "cell_type": "markdown",
   "metadata": {},
   "source": [
    "List Comprehension\n",
    "\n",
    "List Comprehensions is a very powerful tool, which creates a new list based on another list, in a single, readable line.\n",
    "For example, let's say we need to create a list of integers which specify the length of each word in a certain sentence, but only if the word is not the word \"the\".\n"
   ]
  },
  {
   "cell_type": "code",
   "execution_count": 17,
   "metadata": {
    "tags": []
   },
   "outputs": [
    {
     "output_type": "stream",
     "name": "stdout",
     "text": "[4, 5, 2, 8, 2, 4, 2, 4]\n----------\n[4, 5, 2, 8, 2, 4, 2, 4]\n"
    }
   ],
   "source": [
    "sentence=\"the taja mahal is situated in the city of agra\"\n",
    "words = sentence.split()\n",
    "word_lengths=[]\n",
    "for word in words:\n",
    "    if word!=\"the\":\n",
    "        word_lengths.append(len(word))\n",
    "print(word_lengths)\n",
    "print('----------')\n",
    "#one liner\n",
    "word_lengths_in_one_line=[len(word) for word in words if word!=\"the\"]\n",
    "print(word_lengths_in_one_line)"
   ]
  },
  {
   "cell_type": "markdown",
   "metadata": {},
   "source": [
    "Multiple function arguments"
   ]
  },
  {
   "cell_type": "code",
   "execution_count": 28,
   "metadata": {
    "tags": []
   },
   "outputs": [
    {
     "output_type": "stream",
     "name": "stdout",
     "text": "1\n2\n3\n(4, 5, 6, 7)\n4 7\n---------\n{'name': 'Anant', 'age': 25}\ncorrect\n"
    }
   ],
   "source": [
    "def foo(first, second, third,*extras):\n",
    "    print(first)\n",
    "    print(second)\n",
    "    print(third)\n",
    "    print(extras)\n",
    "    print(extras[0],extras[3])\n",
    "\n",
    "foo(1,2,3,4,5,6,7)\n",
    "\n",
    "print(\"---------\")\n",
    "\n",
    "def bar(first, second, third, **options):\n",
    "    print(options)\n",
    "    if options.get(\"name\")==\"Anant\" and options.get('age')==25:\n",
    "        print(\"correct\")\n",
    "\n",
    "bar(3,2,4,name=\"Anant\",age=25)\n"
   ]
  },
  {
   "cell_type": "markdown",
   "metadata": {},
   "source": [
    "Regular Expression , Serialisation"
   ]
  },
  {
   "cell_type": "markdown",
   "metadata": {},
   "source": [
    "Will Do this later"
   ]
  },
  {
   "cell_type": "markdown",
   "metadata": {},
   "source": [
    "Exception Handling"
   ]
  },
  {
   "cell_type": "code",
   "execution_count": 6,
   "metadata": {
    "tags": []
   },
   "outputs": [
    {
     "output_type": "stream",
     "name": "stdout",
     "text": "1 5 4 3 3 5 List Ended\nList Ended\nList Ended\nList Ended\nList Ended\nList Ended\nList Ended\nList Ended\nList Ended\nList Ended\nList Ended\nList Ended\nList Ended\nList Ended\n"
    }
   ],
   "source": [
    "def catchthis():\n",
    "    alist=(1,5,4,3,3,5)\n",
    "\n",
    "    for i in range(20):\n",
    "        try:\n",
    "            print(alist[i],end=\" \")\n",
    "        except IndexError:\n",
    "            print(\"List Ended\")\n",
    "\n",
    "catchthis()\n",
    "       \n"
   ]
  },
  {
   "cell_type": "markdown",
   "metadata": {},
   "source": [
    "Sets"
   ]
  },
  {
   "cell_type": "code",
   "execution_count": 17,
   "metadata": {
    "tags": []
   },
   "outputs": [
    {
     "output_type": "stream",
     "name": "stdout",
     "text": "{'and', 'is', 'anant', 'my', 'name'}\n{'ram', 'adam'}\n{'virus', 'mustfiquir', 'eve', 'bull'}\n{'mustfiquir', 'eve'}\n{'virus', 'bull'}\n{'virus', 'adam', 'ram', 'eve', 'mustfiquir', 'bull'}\n"
    }
   ],
   "source": [
    "#Sets are lists with no duplicate entries\n",
    "print(set(\"my name is anant and anant is my name\".split()))\n",
    "\n",
    "#To find common list elements for both the sets\n",
    "event1=set([\"adam\",\"eve\",\"mustfiquir\",\"ram\"])\n",
    "event2=set([\"ram\",\"adam\",\"virus\",\"bull\"])\n",
    "\n",
    "print(event1.intersection(event2))\n",
    "\n",
    "#To find out which members attended only one of the events\n",
    "#basically elements that are not common in both lists\n",
    "\n",
    "print(event1.symmetric_difference(event2))\n",
    "\n",
    "#To find out which members attended only one event and not the other\n",
    "print(event1.difference(event2)) #attended first and not the second\n",
    "print(event2.difference(event1))#attended second and not the first\n",
    "\n",
    "#To receive a list of all participants\n",
    "print(event1.union(event2))"
   ]
  },
  {
   "cell_type": "markdown",
   "metadata": {},
   "source": [
    "Partial Function"
   ]
  },
  {
   "cell_type": "code",
   "execution_count": 30,
   "metadata": {
    "tags": []
   },
   "outputs": [
    {
     "output_type": "stream",
     "name": "stdout",
     "text": "12\n60\n"
    }
   ],
   "source": [
    "from functools import partial\n",
    "\n",
    "def func(x,y):\n",
    "    return x*y\n",
    "\n",
    "val_ue=partial(func,4)\n",
    "#4 will be assgined to x and when you call val_ue(p) and pass some value for p, that p will take the value of y\n",
    "print(val_ue(3))\n",
    "#-------------------------#\n",
    "\n",
    "#one more example\n",
    "\n",
    "def do_this(u,v,w,x):\n",
    "    return u*4 + v*3 + w*2 + x\n",
    "\n",
    "#10 ---> u\n",
    "#3 ---> v\n",
    "check=partial(do_this,10,3)\n",
    "#5 --->w\n",
    "#1 --->x\n",
    "print(check(5,1))\n"
   ]
  },
  {
   "cell_type": "markdown",
   "metadata": {},
   "source": [
    "Closures\n",
    "\n",
    "Remember, even functions are objects in python"
   ]
  },
  {
   "cell_type": "code",
   "execution_count": 3,
   "metadata": {
    "tags": []
   },
   "outputs": [
    {
     "output_type": "stream",
     "name": "stdout",
     "text": "3\n3\n----------------\n3\n9\n----------------\nTest message\nNone\n------------------\nhello from the other side\n"
    }
   ],
   "source": [
    "#example1\n",
    "def print_msg(number):\n",
    "    def printer():\n",
    "        \n",
    "        nonlocal number\n",
    "        #you made the number nonlocal meaning you modified the value of number\n",
    "        number=3\n",
    "        print(number)\n",
    "    printer()\n",
    "    print(number)\n",
    "print_msg(9)\n",
    "print('----------------')\n",
    "#example 2\n",
    "def print_msg(number):\n",
    "    def printer():\n",
    "        number=3\n",
    "        print(number)\n",
    "    printer()\n",
    "    #this outer function (print_msg) still has 9 in its memory for the value of number \n",
    "    print(number)\n",
    "print_msg(9)\n",
    "print('----------------')\n",
    "\n",
    "#example3\n",
    "def transmit_to_space(message):\n",
    "    #\"This is the enclosing function\"\n",
    "    def data_transmitter():\n",
    "        #\"The nested function\"\n",
    "        print(message)\n",
    "\n",
    "    \n",
    "    data_transmitter()\n",
    "\n",
    "print(transmit_to_space(\"Test message\"))\n",
    "print(\"------------------\")\n",
    "#since the function transmit_to_space didn't returned anything we are printing \"None\"\n",
    "\n",
    "#example4\n",
    "def transmit_to_space(message):\n",
    "    #\"This is the enclosing function\"\n",
    "    def data_transmitter():\n",
    "        #\"The nested function\"\n",
    "        print(message)\n",
    "\n",
    "    return data_transmitter\n",
    "\n",
    "fun=transmit_to_space(\"hello from the other side\")\n",
    "#the transmot_to_space fuction 's execution was complete but the message was preserved with fun\n",
    "fun()"
   ]
  },
  {
   "cell_type": "markdown",
   "metadata": {},
   "source": [
    "Decorators\n",
    "\n",
    "Useful tutorial : https://www.youtube.com/watch?v=FsAPt_9Bf3U"
   ]
  },
  {
   "cell_type": "code",
   "execution_count": 4,
   "metadata": {
    "tags": []
   },
   "outputs": [
    {
     "output_type": "stream",
     "name": "stdout",
     "text": "4\nBad Type\nH\nBad Type\n"
    }
   ],
   "source": [
    "def type_check(correct_type):\n",
    "    #put code here\n",
    "    def astreturn(t2func):\n",
    "        def bndreturn(args):\n",
    "            if isinstance(args,correct_type):\n",
    "                return t2func(args)\n",
    "            else:\n",
    "                print(\"Bad Type\")\n",
    "        return bndreturn\n",
    "    return astreturn\n",
    "\n",
    "@type_check(int)\n",
    "def times2(num):\n",
    "    return num*2\n",
    "\n",
    "print(times2(2))\n",
    "times2('Not A Number')\n",
    "\n",
    "@type_check(str)\n",
    "def first_letter(word):\n",
    "    return word[0]\n",
    "\n",
    "print(first_letter('Hello World'))\n",
    "first_letter(['Not', 'A', 'String'])"
   ]
  },
  {
   "cell_type": "markdown",
   "metadata": {},
   "source": [
    "Map, Filter, Reduce\n",
    "\n",
    "these three functions allow you to apply a function across a number of iterables, in one full swoop. map and filter come built-in with Python (in the __builtins__ module) and require no importing. reduce, however, needs to be imported as it resides in the functools module.\n",
    "\n",
    "Syntax: map(func, *iterables)\n",
    "\n",
    "In Python 2, the map() function retuns a list. In Python 3, however, the function returns a map object which is a generator object. To get the result as a list, the built-in list() function can be called on the map object. i.e. list(map(func, *iterables))\n",
    "The number of arguments to func must be the number of iterables listed.\n",
    "\n"
   ]
  },
  {
   "cell_type": "code",
   "execution_count": 18,
   "metadata": {
    "tags": []
   },
   "outputs": [
    {
     "output_type": "stream",
     "name": "stdout",
     "text": "['ALFRED', 'TABITHA', 'WILLIAM', 'ARLA']\n['ALFRED', 'TABITHA', 'WILLIAM', 'ARLA']\n[4, 6, 4, 56, 9, 32]\n[3.6, 5.58, 4.009, 56.2424, 9.01344]\n[3.6, 5.58]\n[('a', 1), ('b', 2), ('c', 3), ('d', 4), ('e', 5)]\n[['a', 1], ['b', 2], ['c', 3], ['d', 4], ['e', 5]]\n"
    }
   ],
   "source": [
    "#In normal python program you would do like this:\n",
    "\n",
    "my_pets = ['alfred', 'tabitha', 'william', 'arla']\n",
    "uppered_pets = []\n",
    "\n",
    "for pet in my_pets:\n",
    "    pet_ = pet.upper()\n",
    "    uppered_pets.append(pet_)\n",
    "\n",
    "print(uppered_pets)\n",
    "\n",
    "#Using Map:\n",
    "my_pets2 = ['alfred', 'tabitha', 'william', 'arla']\n",
    "\n",
    "uppered_petsx = list(map(str.upper, my_pets2))\n",
    "\n",
    "print(uppered_petsx)\n",
    "\n",
    "#Note that using the defined map() syntax above, func in this case is str.upper and iterables is the my_pets list -- just one iterable. Also note that we did not call the str.upper function (doing this: str.upper()), as the map function does that for us on each element in the my_pets list.\n",
    "\n",
    "#Say I have a list of circle areas that I calculated somewhere, all in five decimal places. And I need to round each element in the list up to its position decimal places, meaning that I have to round up the first element in the list to one decimal place, the second element in the list to two decimal places, the third element in the list to three decimal places, etc. With map() this is a piece of cake. Let's see how.\n",
    "\n",
    "#Python already blesses us with the round() built-in function that takes two arguments -- the number to round up and the number of decimal places to round the number up to. So, since the function requires two arguments, we need to pass in two iterables.\n",
    "\n",
    "circle_areas = [3.56773, 5.57668, 4.00914, 56.24241, 9.01344, 32.00013]\n",
    "\n",
    "result = list(map(round, circle_areas))\n",
    "result1 = list(map(round,circle_areas,range(1,6)))\n",
    "\n",
    "print(result)\n",
    "print(result1)\n",
    "\n",
    "#round() built-in function that takes two arguments, if the second iterable finishes early as in the case of range(1,3) then the iteration would stop and assigned to result, see example below:\n",
    "circle_areas = [3.56773, 5.57668, 4.00914, 56.24241, 9.01344, 32.00013]\n",
    "result = list(map(round, circle_areas, range(1,3)))\n",
    "print(result)\n",
    "\n",
    "#zip function, inbuilt and return list of tuples\n",
    "\n",
    "my_strings = ['a', 'b', 'c', 'd', 'e']\n",
    "my_numbers = [1,2,3,4,5]\n",
    "\n",
    "results = list(zip(my_strings, my_numbers))\n",
    "\n",
    "print(results)\n",
    "\n",
    "#our own custom built function\n",
    "my_strings = ['a', 'b', 'c', 'd', 'e']\n",
    "my_numbers = [1,2,3,4,5]\n",
    "\n",
    "result=list(map(lambda x,y: [x,y] , my_strings,my_numbers))\n",
    "print(result)"
   ]
  },
  {
   "cell_type": "markdown",
   "metadata": {},
   "source": [
    "Filter\n",
    "\n",
    "Syntax: filter(func, iterable)\n",
    "\n",
    "The following points are to be noted regarding filter():\n",
    "\n",
    "Unlike map(), only one iterable is required.\n",
    "The func argument is required to return a boolean type. If it doesn't, filter simply returns the iterable passed to it. Also, as only one iterable is required, it's implicit that func must only take one argument.\n",
    "filter passes each element in the iterable through func and returns only the ones that evaluate to true. I mean, it's right there in the name -- a \"filter\"."
   ]
  },
  {
   "cell_type": "code",
   "execution_count": 22,
   "metadata": {
    "tags": []
   },
   "outputs": [
    {
     "output_type": "stream",
     "name": "stdout",
     "text": "[90, 76, 88, 81]\n['madam', 'anutforajaroftuna']\n"
    }
   ],
   "source": [
    "#Example to show how filter works\n",
    "scores = [66, 90, 68, 59, 76, 60, 88, 74, 81, 65]\n",
    "\n",
    "def is_A_student(score):\n",
    "    return score > 75\n",
    "\n",
    "over_75 = list(filter(is_A_student, scores))\n",
    "\n",
    "print(over_75)\n",
    "\n",
    "#example: palindrom\n",
    "\n",
    "dromes = (\"demigod\", \"rewire\", \"madam\", \"freer\", \"anutforajaroftuna\", \"kiosk\")\n",
    "palindroms=list(filter(lambda value:value==value[::-1] , dromes))\n",
    "print(palindroms)"
   ]
  },
  {
   "cell_type": "markdown",
   "metadata": {},
   "source": [
    "Reduce\n",
    "\n",
    "Syntax: reduce(func, iterable[, initial])\n",
    "\n",
    "Where func is the function on which each element in the iterable gets cumulatively applied to, and initial is the optional value that gets placed before the elements of the iterable in the calculation, and serves as a default when the iterable is empty. The following should be noted about reduce(): 1. func requires two arguments, the first of which is the first element in iterable (if initial is not supplied) and the second the second element in iterable. If initial is supplied, then it becomes the first argument to func and the first element in iterable becomes the second element. 2. reduce \"reduces\" (I know, forgive me) iterable into a single value."
   ]
  },
  {
   "cell_type": "code",
   "execution_count": 35,
   "metadata": {
    "tags": []
   },
   "outputs": [
    {
     "output_type": "stream",
     "name": "stdout",
     "text": "68\n78\n"
    },
    {
     "output_type": "execute_result",
     "data": {
      "text/plain": "1"
     },
     "metadata": {},
     "execution_count": 35
    }
   ],
   "source": [
    "#example1\n",
    "\n",
    "#As usual, it's all about iterations: reduce takes the first and second elements in numbers and passes them to custom_sum respectively. custom_sum computes their sum and returns it to reduce. reduce then takes that result and applies it as the first element to custom_sum and takes the next element (third) in numbers as the second element to custom_sum. It does this continuously (cumulatively) until numbers is exhausted.\n",
    "from functools import reduce\n",
    "\n",
    "numbers = [3, 4, 6, 9, 34, 12]\n",
    "\n",
    "def custom_sum(first, second):\n",
    "    return first + second\n",
    "\n",
    "result = reduce(custom_sum, numbers)\n",
    "print(result)\n",
    "\n",
    "#example2\n",
    "#passing initial value as 10\n",
    "\n",
    "from functools import reduce\n",
    "\n",
    "numbers = [3, 4, 6, 9, 34, 12]\n",
    "\n",
    "def custom_sum(first, second):\n",
    "    return first + second\n",
    "\n",
    "result = reduce(custom_sum, numbers, 10)\n",
    "print(result)\n",
    "numbers.index(4)"
   ]
  },
  {
   "cell_type": "code",
   "execution_count": 36,
   "metadata": {
    "tags": []
   },
   "outputs": [
    {
     "output_type": "stream",
     "name": "stdout",
     "text": "Help on built-in function round in module builtins:\n\nround(number, ndigits=None)\n    Round a number to a given precision in decimal digits.\n    \n    The return value is an integer if ndigits is omitted or None.  Otherwise\n    the return value has the same type as the number.  ndigits may be negative.\n\n"
    },
    {
     "output_type": "execute_result",
     "data": {
      "text/plain": "['__call__',\n '__class__',\n '__delattr__',\n '__dir__',\n '__doc__',\n '__eq__',\n '__format__',\n '__ge__',\n '__getattribute__',\n '__gt__',\n '__hash__',\n '__init__',\n '__init_subclass__',\n '__le__',\n '__lt__',\n '__module__',\n '__name__',\n '__ne__',\n '__new__',\n '__qualname__',\n '__reduce__',\n '__reduce_ex__',\n '__repr__',\n '__self__',\n '__setattr__',\n '__sizeof__',\n '__str__',\n '__subclasshook__',\n '__text_signature__']"
     },
     "metadata": {},
     "execution_count": 36
    }
   ],
   "source": [
    "help(round)\n",
    "dir(round)\n"
   ]
  },
  {
   "cell_type": "code",
   "execution_count": 29,
   "metadata": {
    "tags": []
   },
   "outputs": [
    {
     "output_type": "stream",
     "name": "stdout",
     "text": "[18.92, 37.09, 10.56, 95.45, 4.67, 78.85, 21.07]\n['olumide', 'josiah', 'omoseun']\n24840\n"
    }
   ],
   "source": [
    "#Exercise\n",
    "\n",
    "from functools import reduce \n",
    "\n",
    "# Use map to print the square of each numbers rounded\n",
    "# to two decimal places\n",
    "my_floats = [4.35, 6.09, 3.25, 9.77, 2.16, 8.88, 4.59]\n",
    "\n",
    "# Use filter to print only the names that are less than \n",
    "# or equal to seven letters\n",
    "my_names = [\"olumide\", \"akinremi\", \"josiah\", \"temidayo\", \"omoseun\"]\n",
    "\n",
    "# Use reduce to print the product of these numbers\n",
    "my_numbers = [4, 6, 9, 23, 5]\n",
    "\n",
    "# Fix all three respectively.\n",
    "map_result = list(map(lambda x: round(x**2,2), my_floats))\n",
    "filter_result = list(filter(lambda name: len(name)<=7, my_names))\n",
    "reduce_result = reduce(lambda num1, num2: num1 * num2, my_numbers, 1)\n",
    "\n",
    "print(map_result)\n",
    "print(filter_result)\n",
    "print(reduce_result)"
   ]
  }
 ]
}