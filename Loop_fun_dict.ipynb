{
 "cells": [
  {
   "cell_type": "markdown",
   "metadata": {},
   "source": [
    "Lists"
   ]
  },
  {
   "cell_type": "code",
   "execution_count": 12,
   "metadata": {
    "tags": []
   },
   "outputs": [
    {
     "output_type": "stream",
     "name": "stdout",
     "text": "Arjun is 55 years old\n"
    }
   ],
   "source": [
    "mylist = []\n",
    "mylist.append('Arjun')\n",
    "mylist.append(55)\n",
    "print(f\"{mylist[0]} is {mylist[1]} years old\")\n"
   ]
  },
  {
   "cell_type": "markdown",
   "metadata": {},
   "source": [
    "Operator"
   ]
  },
  {
   "cell_type": "code",
   "execution_count": 19,
   "metadata": {
    "tags": []
   },
   "outputs": [
    {
     "output_type": "stream",
     "name": "stdout",
     "text": "49\nHelloWorld\n[1, 3, 7, 9, 2, 4, 6, 8]\n[1, 5, 2, 1, 5, 2, 1, 5, 2, 1, 5, 2]\n"
    }
   ],
   "source": [
    "square = 7**2\n",
    "print(square)\n",
    "\n",
    "stringcon = \"Hello\" + \"World\"\n",
    "print(stringcon)\n",
    "\n",
    "oddno = [1,3,7,9]\n",
    "evenno = [2,4,6,8]\n",
    "allno = oddno + evenno\n",
    "print(allno)\n",
    "\n",
    "print([1,5,2]*4)"
   ]
  },
  {
   "cell_type": "markdown",
   "metadata": {},
   "source": [
    "Exercise for operators"
   ]
  },
  {
   "cell_type": "code",
   "execution_count": 24,
   "metadata": {
    "tags": []
   },
   "outputs": [
    {
     "output_type": "stream",
     "name": "stdout",
     "text": "x_list constains 10 x objects\ny_list constains 10 y objects\ncreated successfully\n"
    }
   ],
   "source": [
    "x = object()\n",
    "y = object()\n",
    "x_list = [x]*10\n",
    "y_list = [y]*10\n",
    "print(f\"x_list constains {len(x_list)} x objects\")\n",
    "print(f\"y_list constains {len(y_list)} y objects\")\n",
    "biglist = x_list + y_list\n",
    "if biglist.count(x)==10 and biglist.count(y)==10 :\n",
    "    print(\"created successfully\")"
   ]
  },
  {
   "cell_type": "markdown",
   "metadata": {},
   "source": [
    "String Formatting"
   ]
  },
  {
   "cell_type": "code",
   "execution_count": 30,
   "metadata": {
    "tags": []
   },
   "outputs": [
    {
     "output_type": "stream",
     "name": "stdout",
     "text": "Hello Anant you are 23 years old\nHello Anant , you are 23 years old\nHere is the list: [1, 2, 3]\nList contains: [1, 2, 3]\n"
    }
   ],
   "source": [
    "name = \"Anant\"\n",
    "age = 23\n",
    "print(\"Hello %s you are %d years old\" %(name,age))\n",
    "print(f\"Hello {name} , you are {age} years old\")\n",
    "\n",
    "mylist = [1,2,3]\n",
    "print(\"Here is the list: %s\" %mylist)\n",
    "print(f\"List contains: {mylist}\")\n",
    "\n"
   ]
  },
  {
   "cell_type": "markdown",
   "metadata": {},
   "source": [
    "String formatting Exercise"
   ]
  },
  {
   "cell_type": "code",
   "execution_count": 35,
   "metadata": {
    "tags": []
   },
   "outputs": [
    {
     "output_type": "stream",
     "name": "stdout",
     "text": "hello john doe . Your current balance is 53.44$\nhello john doe your current balance is 53.44\n"
    }
   ],
   "source": [
    "data = ('john','doe',53.44)\n",
    "format_string = 'hello'\n",
    "print(f\"{format_string} {data[0]} {data[1]} . Your current balance is {data[2]}$\")\n",
    "print(\"%s %s %s your current balance is %.2f\"%(format_string,data[0],data[1],data[2]))"
   ]
  },
  {
   "cell_type": "markdown",
   "metadata": {},
   "source": [
    "String Operations"
   ]
  },
  {
   "cell_type": "code",
   "execution_count": 93,
   "metadata": {
    "tags": []
   },
   "outputs": [
    {
     "output_type": "stream",
     "name": "stdout",
     "text": "12\n2\n2\nJhonnyWalker\nJho\nnnyWalker\nnnyWalker\nnnyWal\nJhonnyWalker\nnyak\nreklaWynnohJ\nJHONNYWALKER jhonnywalker\nTrue\nFalse\n['hello', 'everyone']\n"
    }
   ],
   "source": [
    "name = 'JhonnyWalker'\n",
    "\n",
    "print(len(name))\n",
    "print(name.index('o'))\n",
    "print(name.count('n'))\n",
    "print(name[:])\n",
    "print(name[:3])\n",
    "print(name[3:])\n",
    "print(name[3: :1])\n",
    "print(name[3:-3])\n",
    "print(name[-200:200])\n",
    "print(name[3:11:2])\n",
    "print(name[::-1])\n",
    "print(name.upper(),name.lower())\n",
    "\n",
    "welcome = 'hello everyone'\n",
    "print(welcome.startswith('he'))\n",
    "print(name.startswith('Wal'))\n",
    "\n",
    "wordsplit = welcome.split(\" \")\n",
    "print(wordsplit)\n",
    "\n"
   ]
  },
  {
   "cell_type": "markdown",
   "metadata": {},
   "source": [
    "Conditions"
   ]
  },
  {
   "cell_type": "code",
   "execution_count": 113,
   "metadata": {
    "tags": []
   },
   "outputs": [
    {
     "output_type": "stream",
     "name": "stdout",
     "text": "True\nYes you are invited\ncat\nTrue\nFalse\nFalse\nTrue\n"
    }
   ],
   "source": [
    "x=2\n",
    "print(x<3)\n",
    "\n",
    "#in\n",
    "name='John'\n",
    "if name in ['Adam','eve','John']:\n",
    "    print(\"Yes you are invited\")\n",
    "\n",
    "#if elif else\n",
    "statement=True\n",
    "other_statement=False\n",
    "if statement is False:\n",
    "    print(\"Banana\")\n",
    "    pass\n",
    "elif other_statement is False:\n",
    "    print('cat')\n",
    "    pass\n",
    "else:\n",
    "    print('dog')\n",
    "    pass\n",
    "\n",
    "#is\n",
    "x=[1,2,3]\n",
    "y=[1,2,3]\n",
    "\n",
    "print(x==y)\n",
    "print(x is y)\n",
    "#the \"is\" operator does not match the values of the variables, but the instances themselves\n",
    "\n",
    "#not\n",
    "print(not True)\n",
    "print(not True == False)"
   ]
  },
  {
   "cell_type": "markdown",
   "metadata": {},
   "source": [
    "Loops"
   ]
  },
  {
   "cell_type": "code",
   "execution_count": 187,
   "metadata": {
    "tags": []
   },
   "outputs": [
    {
     "output_type": "stream",
     "name": "stdout",
     "text": "2 3 5 7 \n0 1 2 3 4 \n3 4 5 \n3 5 7 \n0 1 2 3 4 \n0 1 2 3 4 5 \n1 3 5 7 9"
    }
   ],
   "source": [
    "#for\n",
    "primes=[2,3,5,7]\n",
    "for prime in primes:\n",
    "    print(prime,end=\" \")\n",
    "print()\n",
    "    \n",
    "\n",
    "\n",
    "for x in range(5):\n",
    "    print(x, end=\" \")\n",
    "print()\n",
    "\n",
    "for x in range(3,6):\n",
    "    print(x,end=\" \")\n",
    "print()\n",
    "\n",
    "for x in range(3,9,2):\n",
    "    print(x,end=\" \")\n",
    "print()\n",
    "\n",
    "#while\n",
    "x=0\n",
    "while x<5:\n",
    "    print(x,end=\" \")\n",
    "    x+=1\n",
    "print()\n",
    "\n",
    "#break and continue\n",
    "x=0\n",
    "while True:\n",
    "    print(x,end=\" \")\n",
    "    x+=1\n",
    "    if x>=6:\n",
    "        break\n",
    "print()\n",
    "\n",
    "for x in range(10):\n",
    "    if x%2==0:\n",
    "        continue\n",
    "    print(x,end=\" \")\n"
   ]
  },
  {
   "cell_type": "markdown",
   "metadata": {},
   "source": [
    "Using \"else\" to run something if loop fails"
   ]
  },
  {
   "cell_type": "code",
   "execution_count": 189,
   "metadata": {
    "tags": []
   },
   "outputs": [
    {
     "output_type": "stream",
     "name": "stdout",
     "text": "0 1 2 3 4 5 6 7 8 9 \nThe value of count is 10 so the loop is stopped or say while condition fails\n------\n"
    }
   ],
   "source": [
    "count=0\n",
    "while(count<10):\n",
    "    print(count,end=\" \")\n",
    "    count+=1\n",
    "else:\n",
    "    print()\n",
    "    print(f\"The value of count is {count} so the loop is stopped or say while condition fails\")\n",
    "\n",
    "print('------')\n",
    "for x in range(7):\n",
    "    if x%5==0:\n",
    "        #x=0 pe hi break ho ja ra\n",
    "        break\n",
    "else:\n",
    "    print(f\"break is used so else is not executed\")"
   ]
  },
  {
   "cell_type": "markdown",
   "metadata": {},
   "source": [
    "Finding primes between 10 and 20"
   ]
  },
  {
   "cell_type": "code",
   "execution_count": 177,
   "metadata": {
    "tags": []
   },
   "outputs": [
    {
     "output_type": "stream",
     "name": "stdout",
     "text": "10 is divisible as 2 * 5\n11 is a prime number\n12 is divisible as 2 * 6\n13 is a prime number\n14 is divisible as 2 * 7\n15 is divisible as 3 * 5\n16 is divisible as 2 * 8\n17 is a prime number\n18 is divisible as 2 * 9\n19 is a prime number\n"
    }
   ],
   "source": [
    "for x in range(10,20):\n",
    "    for j in range(2,x): #if this \"for\" loop runs fully without any break then \"else\" will be execute \n",
    "        if x%j==0:\n",
    "            t = int(x/j)\n",
    "            print(f\"{x} is divisible as {j} * {t}\")\n",
    "            break\n",
    "    else:\n",
    "        print(f\"{x} is a prime number\")"
   ]
  },
  {
   "cell_type": "markdown",
   "metadata": {},
   "source": [
    "Functions"
   ]
  },
  {
   "cell_type": "code",
   "execution_count": 190,
   "metadata": {
    "tags": []
   },
   "outputs": [
    {
     "output_type": "stream",
     "name": "stdout",
     "text": "15\n"
    }
   ],
   "source": [
    "def sum_two_numbers(a,b):\n",
    "    return a+b\n",
    "\n",
    "x = sum_two_numbers(5,10)\n",
    "print(x)"
   ]
  },
  {
   "cell_type": "markdown",
   "metadata": {},
   "source": [
    "PASS\n",
    "\n",
    "In Python, pass is a null statement. The interpreter does not ignore a pass statement, but nothing happens and the statement results into no operation. The pass statement is useful when you don't write the implementation of a function but you want to implement it in the future."
   ]
  },
  {
   "cell_type": "markdown",
   "metadata": {},
   "source": [
    "Classes and Objects\n",
    "\n",
    "Objects are an encapsulation of variables and functions into a single entity. Objects get their variables and functions from classes. Classes are essentially a template to create your objects.\n"
   ]
  },
  {
   "cell_type": "code",
   "execution_count": 28,
   "metadata": {
    "tags": []
   },
   "outputs": [
    {
     "output_type": "stream",
     "name": "stdout",
     "text": "something\nnothing\nThis is a message inside the class\nFer is a Red Convertible whose value is $60000\nJump is a Blue Van whose value is $10000\n"
    }
   ],
   "source": [
    "class MyClass:\n",
    "    variable = \"something\"\n",
    "    def function(self):\n",
    "        print(\"This is a message inside the class\")\n",
    "\n",
    "#creating object of a class\n",
    "myObjx = MyClass()\n",
    "myObjy = MyClass()\n",
    "\n",
    "#accessing variable\n",
    "myObjx.variable\n",
    "\n",
    "#objects contains independent copies of variables and functions\n",
    "myObjy.variable = \"nothing\"\n",
    "print(myObjx.variable)\n",
    "print(myObjy.variable)\n",
    "\n",
    "#accessing function of a class\n",
    "myObjx.function()\n",
    "\n",
    "#Exercise on classes and objects\n",
    "\n",
    "class Vehicle:\n",
    "    name=\"\" \n",
    "    kind=\"car\"\n",
    "    color=\"\"\n",
    "    value=100\n",
    "\n",
    "    def description(self):\n",
    "        desc_str = f\"{self.name} is a {self.color} {self.kind} whose value is ${self.value}\"\n",
    "        return desc_str\n",
    "\n",
    "car1=Vehicle()\n",
    "car2=Vehicle()\n",
    "\n",
    "car1.name = \"Fer\"\n",
    "car1.color = \"Red\"\n",
    "car1.kind = \"Convertible\"\n",
    "car1.value=60000\n",
    "\n",
    "car2.name=\"Jump\"\n",
    "car2.color=\"Blue\"\n",
    "car2.kind=\"Van\"\n",
    "car2.value=10000\n",
    "\n",
    "print(car1.description())\n",
    "print(car2.description())\n",
    "\n"
   ]
  },
  {
   "cell_type": "markdown",
   "metadata": {},
   "source": [
    "Dictionary\n",
    "\n",
    "A dictionary is a data type similar to arrays, but works with keys and values instead of indexes. Each value stored in a dictionary can be accessed using a key, which is any type of object (a string, a number, a list, etc.) instead of using its index to address it."
   ]
  },
  {
   "cell_type": "code",
   "execution_count": 40,
   "metadata": {
    "tags": []
   },
   "outputs": [
    {
     "output_type": "stream",
     "name": "stdout",
     "text": "raj's phone number is 235456 \nmaya's phone number is 546721 \ntanya's phone number is 784567 \n{'jasmine': 875687, 'ross': 498765}\n{'maya': 546721, 'tanya': 784567}\n"
    }
   ],
   "source": [
    "phonebook={}\n",
    "phonebook[\"raj\"]=235456\n",
    "phonebook[\"maya\"]=546721\n",
    "phonebook[\"tanya\"]=784567\n",
    "\n",
    "#alternate way to initialise a dictionary\n",
    "phonenumber={\n",
    "    \"mike\" :458765,\"jasmine\" :875687,\"ross\" :498765\n",
    "}\n",
    "\n",
    "#iterate ovdr dictionary\n",
    "\n",
    "for name, no in phonebook.items():\n",
    "    print(f\"{name}'s phone number is {no} \")\n",
    "\n",
    "#removing a value\n",
    "del phonenumber['mike']\n",
    "print(phonenumber)\n",
    "\n",
    "#alternate way of removing\n",
    "phonebook.pop('raj')\n",
    "print(phonebook)"
   ]
  },
  {
   "cell_type": "markdown",
   "metadata": {},
   "source": [
    "Module\n",
    "\n",
    "You may have noticed that when importing a module, a .pyc file appears, which is a compiled Python file. Python compiles files into Python bytecode so that it won't have to parse the files each time modules are loaded. If a .pyc file exists, it gets loaded instead of the .py file, but this process is transparent to the user.\n",
    "\n",
    "#importing module with name of our choice\n",
    "import draw_visual as draw\n",
    "\n",
    "#importing all functions from a module\n",
    "from draw import *\n",
    "\n",
    "#importing specific function from a module\n",
    "from draw import draw_game\n",
    "\n",
    "#importing a module\n",
    "import draw\n",
    "\n",
    "The first time a module is loaded into a running Python script, it is initialized by executing the code in the module once. If another module in your code imports the same module again, it will not be loaded twice but once only - so local variables inside the module act as a \"singleton\" - they are initialized only once.\n",
    "\n",
    "#extending module load path\n",
    "PYTHONPATH=/foo python game.py or sys.path.append(\"/foo\")\n",
    "\n",
    "We can look for which functions are implemented in each module by using the dir function\n",
    "\n",
    "When we find the function in the module we want to use, we can read about it more using the help function, inside the Python interpreter\n",
    "\n",
    "\n"
   ]
  },
  {
   "cell_type": "markdown",
   "metadata": {},
   "source": [
    "Numpy arrays"
   ]
  },
  {
   "cell_type": "code",
   "execution_count": 1,
   "metadata": {
    "tags": []
   },
   "outputs": [
    {
     "output_type": "stream",
     "name": "stdout",
     "text": "[3.74 3.74 3.64 3.82 3.8  3.7 ]\n[1.87, 1.87, 1.82, 1.91, 1.9, 1.85, 1.87, 1.87, 1.82, 1.91, 1.9, 1.85]\n23.349252194801107\n[23.34925219 27.88755755 28.75558507 25.48723993 23.87257618 25.84368152]\n[False  True  True  True False  True]\n[27.88755755 28.75558507 25.48723993 25.84368152]\n"
    }
   ],
   "source": [
    "height=[1.87,  1.87, 1.82, 1.91, 1.90, 1.85]\n",
    "weight=[81.65, 97.52, 95.25, 92.98, 86.18, 88.45]\n",
    "import numpy as np\n",
    "\n",
    "np_height= np.array(height)\n",
    "np_weight=np.array(weight)\n",
    "\n",
    "#see the difference between list/array and numpyarray\n",
    "print(np_height*2)\n",
    "print(height*2)\n",
    "\n",
    "print(81.65/(1.87**2))\n",
    "#weight/ square of height\n",
    "bmi = np_weight/np_height **2\n",
    "print(bmi)\n",
    "\n",
    "#boolean response\n",
    "print(bmi>25)\n",
    "#actual values\n",
    "print(bmi[bmi>25])\n",
    "\n"
   ]
  },
  {
   "cell_type": "markdown",
   "metadata": {},
   "source": [
    "Pandas"
   ]
  },
  {
   "cell_type": "code",
   "execution_count": 5,
   "metadata": {
    "tags": []
   },
   "outputs": [
    {
     "output_type": "stream",
     "name": "stdout",
     "text": "country    capital    area  population\n0        Brazil   Brazilia   8.516      200.40\n1        Russia     Moscow  17.100      143.50\n2         India  New Delhi   3.286     1252.00\n3         China    Beijing   9.597     1357.00\n4  South Africa   Pretoria   1.221       52.98\n----------------------------------\n         country    capital    area  population\nBR        Brazil   Brazilia   8.516      200.40\nRU        Russia     Moscow  17.100      143.50\nIN         India  New Delhi   3.286     1252.00\nCH         China    Beijing   9.597     1357.00\nSA  South Africa   Pretoria   1.221       52.98\n"
    }
   ],
   "source": [
    "details={\n",
    "    \"country\":[\"Brazil\",\"Russia\",\"India\",\"China\",\"South Africa\"],\n",
    "    \"capital\":[\"Brazilia\",\"Moscow\",\"New Delhi\",\"Beijing\",\"Pretoria\"],\n",
    "    \"area\": [8.516, 17.10, 3.286, 9.597, 1.221],\n",
    "    \"population\": [200.4, 143.5, 1252, 1357, 52.98]\n",
    "    }\n",
    "\n",
    "import pandas as pd\n",
    "brics=pd.DataFrame(details)\n",
    "print(brics)\n",
    "print(\"----------------------------------\")\n",
    "#adding index of our choice\n",
    "brics.index = [\"BR\",\"RU\",\"IN\",\"CH\",\"SA\"]\n",
    "print(brics)"
   ]
  },
  {
   "cell_type": "markdown",
   "metadata": {},
   "source": [
    "Dataframe can also be created by importing csv files.\n",
    "cars = pd.read_csv('cars.csv')"
   ]
  },
  {
   "cell_type": "code",
   "execution_count": 14,
   "metadata": {
    "tags": []
   },
   "outputs": [
    {
     "output_type": "stream",
     "name": "stdout",
     "text": "capital    area\nBR   Brazilia   8.516\nRU     Moscow  17.100\nIN  New Delhi   3.286\nCH    Beijing   9.597\nSA   Pretoria   1.221\nBR     8.516\nRU    17.100\nIN     3.286\nCH     9.597\nSA     1.221\nName: area, dtype: float64\n      area\nBR   8.516\nRU  17.100\nIN   3.286\nCH   9.597\nSA   1.221\n"
    }
   ],
   "source": [
    "#The single bracket with output a Pandas Series, while a double bracket will output a Pandas DataFrame.\n",
    "print(brics['area'])\n",
    "print(brics[['area']])"
   ]
  },
  {
   "cell_type": "code",
   "execution_count": 22,
   "metadata": {
    "tags": []
   },
   "outputs": [
    {
     "output_type": "stream",
     "name": "stdout",
     "text": "capital    area\nBR   Brazilia   8.516\nRU     Moscow  17.100\nIN  New Delhi   3.286\nCH    Beijing   9.597\nSA   Pretoria   1.221\n"
    }
   ],
   "source": [
    "\n",
    "print(brics[['capital','area']])"
   ]
  },
  {
   "cell_type": "code",
   "execution_count": 25,
   "metadata": {
    "tags": []
   },
   "outputs": [
    {
     "output_type": "stream",
     "name": "stdout",
     "text": "country    capital    area  population\nBR  Brazil   Brazilia   8.516       200.4\nRU  Russia     Moscow  17.100       143.5\nIN   India  New Delhi   3.286      1252.0\n"
    }
   ],
   "source": [
    "#print first 3 rows\n",
    "print(brics[:3])"
   ]
  },
  {
   "cell_type": "code",
   "execution_count": 33,
   "metadata": {
    "tags": []
   },
   "outputs": [
    {
     "output_type": "stream",
     "name": "stdout",
     "text": "country    capital   area  population\nBR  Brazil   Brazilia  8.516       200.4\nIN   India  New Delhi  3.286      1252.0\n---------\n   country   capital    area  population\nBR  Brazil  Brazilia   8.516       200.4\nRU  Russia    Moscow  17.100       143.5\n"
    }
   ],
   "source": [
    "#iloc and loc\n",
    "print(brics.loc[['BR','IN']])\n",
    "print('---------')\n",
    "print(brics.iloc[:2])"
   ]
  }
 ],
 "metadata": {
  "language_info": {
   "codemirror_mode": {
    "name": "ipython",
    "version": 3
   },
   "file_extension": ".py",
   "mimetype": "text/x-python",
   "name": "python",
   "nbconvert_exporter": "python",
   "pygments_lexer": "ipython3",
   "version": "3.8.3-final"
  },
  "orig_nbformat": 2,
  "kernelspec": {
   "name": "python38364bitenvvenv6b375eeee6a84da6ad44d57aac048cd7",
   "display_name": "Python 3.8.3 64-bit ('env': venv)"
  }
 },
 "nbformat": 4,
 "nbformat_minor": 2
}