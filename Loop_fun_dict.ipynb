{
 "cells": [
  {
   "cell_type": "markdown",
   "metadata": {},
   "source": [
    "Lists"
   ]
  },
  {
   "cell_type": "code",
   "execution_count": 12,
   "metadata": {
    "tags": []
   },
   "outputs": [
    {
     "output_type": "stream",
     "name": "stdout",
     "text": "Arjun is 55 years old\n"
    }
   ],
   "source": [
    "mylist = []\n",
    "mylist.append('Arjun')\n",
    "mylist.append(55)\n",
    "print(f\"{mylist[0]} is {mylist[1]} years old\")\n"
   ]
  },
  {
   "cell_type": "markdown",
   "metadata": {},
   "source": [
    "Operator"
   ]
  },
  {
   "cell_type": "code",
   "execution_count": 19,
   "metadata": {
    "tags": []
   },
   "outputs": [
    {
     "output_type": "stream",
     "name": "stdout",
     "text": "49\nHelloWorld\n[1, 3, 7, 9, 2, 4, 6, 8]\n[1, 5, 2, 1, 5, 2, 1, 5, 2, 1, 5, 2]\n"
    }
   ],
   "source": [
    "square = 7**2\n",
    "print(square)\n",
    "\n",
    "stringcon = \"Hello\" + \"World\"\n",
    "print(stringcon)\n",
    "\n",
    "oddno = [1,3,7,9]\n",
    "evenno = [2,4,6,8]\n",
    "allno = oddno + evenno\n",
    "print(allno)\n",
    "\n",
    "print([1,5,2]*4)"
   ]
  },
  {
   "cell_type": "markdown",
   "metadata": {},
   "source": [
    "Exercise for operators"
   ]
  },
  {
   "cell_type": "code",
   "execution_count": 24,
   "metadata": {
    "tags": []
   },
   "outputs": [
    {
     "output_type": "stream",
     "name": "stdout",
     "text": "x_list constains 10 x objects\ny_list constains 10 y objects\ncreated successfully\n"
    }
   ],
   "source": [
    "x = object()\n",
    "y = object()\n",
    "x_list = [x]*10\n",
    "y_list = [y]*10\n",
    "print(f\"x_list constains {len(x_list)} x objects\")\n",
    "print(f\"y_list constains {len(y_list)} y objects\")\n",
    "biglist = x_list + y_list\n",
    "if biglist.count(x)==10 and biglist.count(y)==10 :\n",
    "    print(\"created successfully\")"
   ]
  },
  {
   "cell_type": "markdown",
   "metadata": {},
   "source": [
    "String Formatting"
   ]
  },
  {
   "cell_type": "code",
   "execution_count": 30,
   "metadata": {
    "tags": []
   },
   "outputs": [
    {
     "output_type": "stream",
     "name": "stdout",
     "text": "Hello Anant you are 23 years old\nHello Anant , you are 23 years old\nHere is the list: [1, 2, 3]\nList contains: [1, 2, 3]\n"
    }
   ],
   "source": [
    "name = \"Anant\"\n",
    "age = 23\n",
    "print(\"Hello %s you are %d years old\" %(name,age))\n",
    "print(f\"Hello {name} , you are {age} years old\")\n",
    "\n",
    "mylist = [1,2,3]\n",
    "print(\"Here is the list: %s\" %mylist)\n",
    "print(f\"List contains: {mylist}\")\n",
    "\n"
   ]
  },
  {
   "cell_type": "markdown",
   "metadata": {},
   "source": [
    "String formatting Exercise"
   ]
  },
  {
   "cell_type": "code",
   "execution_count": 35,
   "metadata": {
    "tags": []
   },
   "outputs": [
    {
     "output_type": "stream",
     "name": "stdout",
     "text": "hello john doe . Your current balance is 53.44$\nhello john doe your current balance is 53.44\n"
    }
   ],
   "source": [
    "data = ('john','doe',53.44)\n",
    "format_string = 'hello'\n",
    "print(f\"{format_string} {data[0]} {data[1]} . Your current balance is {data[2]}$\")\n",
    "print(\"%s %s %s your current balance is %.2f\"%(format_string,data[0],data[1],data[2]))"
   ]
  },
  {
   "cell_type": "markdown",
   "metadata": {},
   "source": [
    "String Operations"
   ]
  },
  {
   "cell_type": "code",
   "execution_count": 93,
   "metadata": {
    "tags": []
   },
   "outputs": [
    {
     "output_type": "stream",
     "name": "stdout",
     "text": "12\n2\n2\nJhonnyWalker\nJho\nnnyWalker\nnnyWalker\nnnyWal\nJhonnyWalker\nnyak\nreklaWynnohJ\nJHONNYWALKER jhonnywalker\nTrue\nFalse\n['hello', 'everyone']\n"
    }
   ],
   "source": [
    "name = 'JhonnyWalker'\n",
    "\n",
    "print(len(name))\n",
    "print(name.index('o'))\n",
    "print(name.count('n'))\n",
    "print(name[:])\n",
    "print(name[:3])\n",
    "print(name[3:])\n",
    "print(name[3: :1])\n",
    "print(name[3:-3])\n",
    "print(name[-200:200])\n",
    "print(name[3:11:2])\n",
    "print(name[::-1])\n",
    "print(name.upper(),name.lower())\n",
    "\n",
    "welcome = 'hello everyone'\n",
    "print(welcome.startswith('he'))\n",
    "print(name.startswith('Wal'))\n",
    "\n",
    "wordsplit = welcome.split(\" \")\n",
    "print(wordsplit)\n",
    "\n"
   ]
  },
  {
   "cell_type": "markdown",
   "metadata": {},
   "source": [
    "Conditions"
   ]
  },
  {
   "cell_type": "code",
   "execution_count": null,
   "metadata": {},
   "outputs": [],
   "source": []
  }
 ],
 "metadata": {
  "language_info": {
   "codemirror_mode": {
    "name": "ipython",
    "version": 3
   },
   "file_extension": ".py",
   "mimetype": "text/x-python",
   "name": "python",
   "nbconvert_exporter": "python",
   "pygments_lexer": "ipython3",
   "version": "3.8.3-final"
  },
  "orig_nbformat": 2,
  "kernelspec": {
   "name": "python38364bitenvvenv6b375eeee6a84da6ad44d57aac048cd7",
   "display_name": "Python 3.8.3 64-bit ('env': venv)"
  }
 },
 "nbformat": 4,
 "nbformat_minor": 2
}