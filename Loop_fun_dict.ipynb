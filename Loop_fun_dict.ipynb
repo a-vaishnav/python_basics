{
 "cells": [
  {
   "cell_type": "markdown",
   "metadata": {},
   "source": [
    "Lists"
   ]
  },
  {
   "cell_type": "code",
   "execution_count": 12,
   "metadata": {
    "tags": []
   },
   "outputs": [
    {
     "output_type": "stream",
     "name": "stdout",
     "text": "Arjun is 55 years old\n"
    }
   ],
   "source": [
    "mylist = []\n",
    "mylist.append('Arjun')\n",
    "mylist.append(55)\n",
    "print(f\"{mylist[0]} is {mylist[1]} years old\")\n"
   ]
  },
  {
   "cell_type": "markdown",
   "metadata": {},
   "source": [
    "Operator"
   ]
  },
  {
   "cell_type": "code",
   "execution_count": 19,
   "metadata": {
    "tags": []
   },
   "outputs": [
    {
     "output_type": "stream",
     "name": "stdout",
     "text": "49\nHelloWorld\n[1, 3, 7, 9, 2, 4, 6, 8]\n[1, 5, 2, 1, 5, 2, 1, 5, 2, 1, 5, 2]\n"
    }
   ],
   "source": [
    "square = 7**2\n",
    "print(square)\n",
    "\n",
    "stringcon = \"Hello\" + \"World\"\n",
    "print(stringcon)\n",
    "\n",
    "oddno = [1,3,7,9]\n",
    "evenno = [2,4,6,8]\n",
    "allno = oddno + evenno\n",
    "print(allno)\n",
    "\n",
    "print([1,5,2]*4)"
   ]
  },
  {
   "cell_type": "markdown",
   "metadata": {},
   "source": [
    "Exercise for operators"
   ]
  },
  {
   "cell_type": "code",
   "execution_count": 24,
   "metadata": {
    "tags": []
   },
   "outputs": [
    {
     "output_type": "stream",
     "name": "stdout",
     "text": "x_list constains 10 x objects\ny_list constains 10 y objects\ncreated successfully\n"
    }
   ],
   "source": [
    "x = object()\n",
    "y = object()\n",
    "x_list = [x]*10\n",
    "y_list = [y]*10\n",
    "print(f\"x_list constains {len(x_list)} x objects\")\n",
    "print(f\"y_list constains {len(y_list)} y objects\")\n",
    "biglist = x_list + y_list\n",
    "if biglist.count(x)==10 and biglist.count(y)==10 :\n",
    "    print(\"created successfully\")"
   ]
  },
  {
   "cell_type": "markdown",
   "metadata": {},
   "source": [
    "String Formatting"
   ]
  },
  {
   "cell_type": "code",
   "execution_count": 30,
   "metadata": {
    "tags": []
   },
   "outputs": [
    {
     "output_type": "stream",
     "name": "stdout",
     "text": "Hello Anant you are 23 years old\nHello Anant , you are 23 years old\nHere is the list: [1, 2, 3]\nList contains: [1, 2, 3]\n"
    }
   ],
   "source": [
    "name = \"Anant\"\n",
    "age = 23\n",
    "print(\"Hello %s you are %d years old\" %(name,age))\n",
    "print(f\"Hello {name} , you are {age} years old\")\n",
    "\n",
    "mylist = [1,2,3]\n",
    "print(\"Here is the list: %s\" %mylist)\n",
    "print(f\"List contains: {mylist}\")\n",
    "\n"
   ]
  },
  {
   "cell_type": "markdown",
   "metadata": {},
   "source": [
    "String formatting Exercise"
   ]
  },
  {
   "cell_type": "code",
   "execution_count": 35,
   "metadata": {
    "tags": []
   },
   "outputs": [
    {
     "output_type": "stream",
     "name": "stdout",
     "text": "hello john doe . Your current balance is 53.44$\nhello john doe your current balance is 53.44\n"
    }
   ],
   "source": [
    "data = ('john','doe',53.44)\n",
    "format_string = 'hello'\n",
    "print(f\"{format_string} {data[0]} {data[1]} . Your current balance is {data[2]}$\")\n",
    "print(\"%s %s %s your current balance is %.2f\"%(format_string,data[0],data[1],data[2]))"
   ]
  },
  {
   "cell_type": "markdown",
   "metadata": {},
   "source": [
    "String Operations"
   ]
  },
  {
   "cell_type": "code",
   "execution_count": 93,
   "metadata": {
    "tags": []
   },
   "outputs": [
    {
     "output_type": "stream",
     "name": "stdout",
     "text": "12\n2\n2\nJhonnyWalker\nJho\nnnyWalker\nnnyWalker\nnnyWal\nJhonnyWalker\nnyak\nreklaWynnohJ\nJHONNYWALKER jhonnywalker\nTrue\nFalse\n['hello', 'everyone']\n"
    }
   ],
   "source": [
    "name = 'JhonnyWalker'\n",
    "\n",
    "print(len(name))\n",
    "print(name.index('o'))\n",
    "print(name.count('n'))\n",
    "print(name[:])\n",
    "print(name[:3])\n",
    "print(name[3:])\n",
    "print(name[3: :1])\n",
    "print(name[3:-3])\n",
    "print(name[-200:200])\n",
    "print(name[3:11:2])\n",
    "print(name[::-1])\n",
    "print(name.upper(),name.lower())\n",
    "\n",
    "welcome = 'hello everyone'\n",
    "print(welcome.startswith('he'))\n",
    "print(name.startswith('Wal'))\n",
    "\n",
    "wordsplit = welcome.split(\" \")\n",
    "print(wordsplit)\n",
    "\n"
   ]
  },
  {
   "cell_type": "markdown",
   "metadata": {},
   "source": [
    "Conditions"
   ]
  },
  {
   "cell_type": "code",
   "execution_count": 113,
   "metadata": {
    "tags": []
   },
   "outputs": [
    {
     "output_type": "stream",
     "name": "stdout",
     "text": "True\nYes you are invited\ncat\nTrue\nFalse\nFalse\nTrue\n"
    }
   ],
   "source": [
    "x=2\n",
    "print(x<3)\n",
    "\n",
    "#in\n",
    "name='John'\n",
    "if name in ['Adam','eve','John']:\n",
    "    print(\"Yes you are invited\")\n",
    "\n",
    "#if elif else\n",
    "statement=True\n",
    "other_statement=False\n",
    "if statement is False:\n",
    "    print(\"Banana\")\n",
    "    pass\n",
    "elif other_statement is False:\n",
    "    print('cat')\n",
    "    pass\n",
    "else:\n",
    "    print('dog')\n",
    "    pass\n",
    "\n",
    "#is\n",
    "x=[1,2,3]\n",
    "y=[1,2,3]\n",
    "\n",
    "print(x==y)\n",
    "print(x is y)\n",
    "#the \"is\" operator does not match the values of the variables, but the instances themselves\n",
    "\n",
    "#not\n",
    "print(not True)\n",
    "print(not True == False)"
   ]
  },
  {
   "cell_type": "markdown",
   "metadata": {},
   "source": [
    "Loops"
   ]
  },
  {
   "cell_type": "code",
   "execution_count": 187,
   "metadata": {
    "tags": []
   },
   "outputs": [
    {
     "output_type": "stream",
     "name": "stdout",
     "text": "2 3 5 7 \n0 1 2 3 4 \n3 4 5 \n3 5 7 \n0 1 2 3 4 \n0 1 2 3 4 5 \n1 3 5 7 9"
    }
   ],
   "source": [
    "#for\n",
    "primes=[2,3,5,7]\n",
    "for prime in primes:\n",
    "    print(prime,end=\" \")\n",
    "print()\n",
    "    \n",
    "\n",
    "\n",
    "for x in range(5):\n",
    "    print(x, end=\" \")\n",
    "print()\n",
    "\n",
    "for x in range(3,6):\n",
    "    print(x,end=\" \")\n",
    "print()\n",
    "\n",
    "for x in range(3,9,2):\n",
    "    print(x,end=\" \")\n",
    "print()\n",
    "\n",
    "#while\n",
    "x=0\n",
    "while x<5:\n",
    "    print(x,end=\" \")\n",
    "    x+=1\n",
    "print()\n",
    "\n",
    "#break and continue\n",
    "x=0\n",
    "while True:\n",
    "    print(x,end=\" \")\n",
    "    x+=1\n",
    "    if x>=6:\n",
    "        break\n",
    "print()\n",
    "\n",
    "for x in range(10):\n",
    "    if x%2==0:\n",
    "        continue\n",
    "    print(x,end=\" \")\n"
   ]
  },
  {
   "cell_type": "markdown",
   "metadata": {},
   "source": [
    "Using \"else\" to run something if loop fails"
   ]
  },
  {
   "cell_type": "code",
   "execution_count": 189,
   "metadata": {
    "tags": []
   },
   "outputs": [
    {
     "output_type": "stream",
     "name": "stdout",
     "text": "0 1 2 3 4 5 6 7 8 9 \nThe value of count is 10 so the loop is stopped or say while condition fails\n------\n"
    }
   ],
   "source": [
    "count=0\n",
    "while(count<10):\n",
    "    print(count,end=\" \")\n",
    "    count+=1\n",
    "else:\n",
    "    print()\n",
    "    print(f\"The value of count is {count} so the loop is stopped or say while condition fails\")\n",
    "\n",
    "print('------')\n",
    "for x in range(7):\n",
    "    if x%5==0:\n",
    "        #x=0 pe hi break ho ja ra\n",
    "        break\n",
    "else:\n",
    "    print(f\"break is used so else is not executed\")"
   ]
  },
  {
   "cell_type": "markdown",
   "metadata": {},
   "source": [
    "Finding primes between 10 and 20"
   ]
  },
  {
   "cell_type": "code",
   "execution_count": 177,
   "metadata": {
    "tags": []
   },
   "outputs": [
    {
     "output_type": "stream",
     "name": "stdout",
     "text": "10 is divisible as 2 * 5\n11 is a prime number\n12 is divisible as 2 * 6\n13 is a prime number\n14 is divisible as 2 * 7\n15 is divisible as 3 * 5\n16 is divisible as 2 * 8\n17 is a prime number\n18 is divisible as 2 * 9\n19 is a prime number\n"
    }
   ],
   "source": [
    "for x in range(10,20):\n",
    "    for j in range(2,x): #if this \"for\" loop runs fully without any break then \"else\" will be execute \n",
    "        if x%j==0:\n",
    "            t = int(x/j)\n",
    "            print(f\"{x} is divisible as {j} * {t}\")\n",
    "            break\n",
    "    else:\n",
    "        print(f\"{x} is a prime number\")"
   ]
  },
  {
   "cell_type": "markdown",
   "metadata": {},
   "source": [
    "Functions"
   ]
  },
  {
   "cell_type": "code",
   "execution_count": 190,
   "metadata": {
    "tags": []
   },
   "outputs": [
    {
     "output_type": "stream",
     "name": "stdout",
     "text": "15\n"
    }
   ],
   "source": [
    "def sum_two_numbers(a,b):\n",
    "    return a+b\n",
    "\n",
    "x = sum_two_numbers(5,10)\n",
    "print(x)"
   ]
  },
  {
   "cell_type": "markdown",
   "metadata": {},
   "source": [
    "PASS\n",
    "\n",
    "In Python, pass is a null statement. The interpreter does not ignore a pass statement, but nothing happens and the statement results into no operation. The pass statement is useful when you don't write the implementation of a function but you want to implement it in the future."
   ]
  },
  {
   "cell_type": "markdown",
   "metadata": {},
   "source": [
    "Classes and Objects\n"
   ]
  },
  {
   "cell_type": "code",
   "execution_count": null,
   "metadata": {},
   "outputs": [],
   "source": []
  },
  {
   "cell_type": "markdown",
   "metadata": {},
   "source": []
  }
 ],
 "metadata": {
  "language_info": {
   "codemirror_mode": {
    "name": "ipython",
    "version": 3
   },
   "file_extension": ".py",
   "mimetype": "text/x-python",
   "name": "python",
   "nbconvert_exporter": "python",
   "pygments_lexer": "ipython3",
   "version": "3.8.3-final"
  },
  "orig_nbformat": 2,
  "kernelspec": {
   "name": "python38364bitenvvenv6b375eeee6a84da6ad44d57aac048cd7",
   "display_name": "Python 3.8.3 64-bit ('env': venv)"
  }
 },
 "nbformat": 4,
 "nbformat_minor": 2
}